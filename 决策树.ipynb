{
  "cells": [
    {
      "cell_type": "markdown",
      "metadata": {
        "id": "view-in-github",
        "colab_type": "text"
      },
      "source": [
        "<a href=\"https://colab.research.google.com/github/Giftedz/Learn-machine-learning/blob/main/%E5%86%B3%E7%AD%96%E6%A0%91.ipynb\" target=\"_parent\"><img src=\"https://colab.research.google.com/assets/colab-badge.svg\" alt=\"Open In Colab\"/></a>"
      ]
    },
    {
      "cell_type": "code",
      "execution_count": 2,
      "id": "41a3d133",
      "metadata": {
        "id": "41a3d133"
      },
      "outputs": [],
      "source": [
        "import numpy as np\n",
        "import pandas as pd\n",
        "import math\n",
        "import copy\n",
        "import matplotlib.pyplot as plt\n",
        "import matplotlib as mpl\n",
        "#plt.rcParams['font.sans-serif'] = ['KaiTi'] # 指定默认字体\n",
        "#plt.rcParams['axes.unicode_minus'] = False"
      ]
    },
    {
      "cell_type": "code",
      "execution_count": 3,
      "id": "14986a61",
      "metadata": {
        "colab": {
          "base_uri": "https://localhost:8080/",
          "height": 341
        },
        "id": "14986a61",
        "outputId": "055a5334-3e26-49b6-e876-32e6488b36ef"
      },
      "outputs": [
        {
          "output_type": "error",
          "ename": "FileNotFoundError",
          "evalue": "ignored",
          "traceback": [
            "\u001b[0;31m---------------------------------------------------------------------------\u001b[0m",
            "\u001b[0;31mFileNotFoundError\u001b[0m                         Traceback (most recent call last)",
            "\u001b[0;32m<ipython-input-3-927a2fd00401>\u001b[0m in \u001b[0;36m<module>\u001b[0;34m()\u001b[0m\n\u001b[0;32m----> 1\u001b[0;31m \u001b[0mdataset\u001b[0m \u001b[0;34m=\u001b[0m \u001b[0mpd\u001b[0m\u001b[0;34m.\u001b[0m\u001b[0mread_excel\u001b[0m\u001b[0;34m(\u001b[0m\u001b[0;34m'/Users/zhangtiansheng/Downloads/WaterMelon_3.0.xlsx'\u001b[0m\u001b[0;34m,\u001b[0m\u001b[0mindex_col\u001b[0m\u001b[0;34m=\u001b[0m\u001b[0;36m0\u001b[0m\u001b[0;34m)\u001b[0m\u001b[0;34m\u001b[0m\u001b[0;34m\u001b[0m\u001b[0m\n\u001b[0m\u001b[1;32m      2\u001b[0m \u001b[0mdataset\u001b[0m\u001b[0;34m\u001b[0m\u001b[0;34m\u001b[0m\u001b[0m\n",
            "\u001b[0;32m/usr/local/lib/python3.7/dist-packages/pandas/util/_decorators.py\u001b[0m in \u001b[0;36mwrapper\u001b[0;34m(*args, **kwargs)\u001b[0m\n\u001b[1;32m    294\u001b[0m                 )\n\u001b[1;32m    295\u001b[0m                 \u001b[0mwarnings\u001b[0m\u001b[0;34m.\u001b[0m\u001b[0mwarn\u001b[0m\u001b[0;34m(\u001b[0m\u001b[0mmsg\u001b[0m\u001b[0;34m,\u001b[0m \u001b[0mFutureWarning\u001b[0m\u001b[0;34m,\u001b[0m \u001b[0mstacklevel\u001b[0m\u001b[0;34m=\u001b[0m\u001b[0mstacklevel\u001b[0m\u001b[0;34m)\u001b[0m\u001b[0;34m\u001b[0m\u001b[0;34m\u001b[0m\u001b[0m\n\u001b[0;32m--> 296\u001b[0;31m             \u001b[0;32mreturn\u001b[0m \u001b[0mfunc\u001b[0m\u001b[0;34m(\u001b[0m\u001b[0;34m*\u001b[0m\u001b[0margs\u001b[0m\u001b[0;34m,\u001b[0m \u001b[0;34m**\u001b[0m\u001b[0mkwargs\u001b[0m\u001b[0;34m)\u001b[0m\u001b[0;34m\u001b[0m\u001b[0;34m\u001b[0m\u001b[0m\n\u001b[0m\u001b[1;32m    297\u001b[0m \u001b[0;34m\u001b[0m\u001b[0m\n\u001b[1;32m    298\u001b[0m         \u001b[0;32mreturn\u001b[0m \u001b[0mwrapper\u001b[0m\u001b[0;34m\u001b[0m\u001b[0;34m\u001b[0m\u001b[0m\n",
            "\u001b[0;32m/usr/local/lib/python3.7/dist-packages/pandas/io/excel/_base.py\u001b[0m in \u001b[0;36mread_excel\u001b[0;34m(io, sheet_name, header, names, index_col, usecols, squeeze, dtype, engine, converters, true_values, false_values, skiprows, nrows, na_values, keep_default_na, na_filter, verbose, parse_dates, date_parser, thousands, comment, skipfooter, convert_float, mangle_dupe_cols)\u001b[0m\n\u001b[1;32m    302\u001b[0m \u001b[0;34m\u001b[0m\u001b[0m\n\u001b[1;32m    303\u001b[0m     \u001b[0;32mif\u001b[0m \u001b[0;32mnot\u001b[0m \u001b[0misinstance\u001b[0m\u001b[0;34m(\u001b[0m\u001b[0mio\u001b[0m\u001b[0;34m,\u001b[0m \u001b[0mExcelFile\u001b[0m\u001b[0;34m)\u001b[0m\u001b[0;34m:\u001b[0m\u001b[0;34m\u001b[0m\u001b[0;34m\u001b[0m\u001b[0m\n\u001b[0;32m--> 304\u001b[0;31m         \u001b[0mio\u001b[0m \u001b[0;34m=\u001b[0m \u001b[0mExcelFile\u001b[0m\u001b[0;34m(\u001b[0m\u001b[0mio\u001b[0m\u001b[0;34m,\u001b[0m \u001b[0mengine\u001b[0m\u001b[0;34m=\u001b[0m\u001b[0mengine\u001b[0m\u001b[0;34m)\u001b[0m\u001b[0;34m\u001b[0m\u001b[0;34m\u001b[0m\u001b[0m\n\u001b[0m\u001b[1;32m    305\u001b[0m     \u001b[0;32melif\u001b[0m \u001b[0mengine\u001b[0m \u001b[0;32mand\u001b[0m \u001b[0mengine\u001b[0m \u001b[0;34m!=\u001b[0m \u001b[0mio\u001b[0m\u001b[0;34m.\u001b[0m\u001b[0mengine\u001b[0m\u001b[0;34m:\u001b[0m\u001b[0;34m\u001b[0m\u001b[0;34m\u001b[0m\u001b[0m\n\u001b[1;32m    306\u001b[0m         raise ValueError(\n",
            "\u001b[0;32m/usr/local/lib/python3.7/dist-packages/pandas/io/excel/_base.py\u001b[0m in \u001b[0;36m__init__\u001b[0;34m(self, path_or_buffer, engine)\u001b[0m\n\u001b[1;32m    865\u001b[0m         \u001b[0mself\u001b[0m\u001b[0;34m.\u001b[0m\u001b[0m_io\u001b[0m \u001b[0;34m=\u001b[0m \u001b[0mstringify_path\u001b[0m\u001b[0;34m(\u001b[0m\u001b[0mpath_or_buffer\u001b[0m\u001b[0;34m)\u001b[0m\u001b[0;34m\u001b[0m\u001b[0;34m\u001b[0m\u001b[0m\n\u001b[1;32m    866\u001b[0m \u001b[0;34m\u001b[0m\u001b[0m\n\u001b[0;32m--> 867\u001b[0;31m         \u001b[0mself\u001b[0m\u001b[0;34m.\u001b[0m\u001b[0m_reader\u001b[0m \u001b[0;34m=\u001b[0m \u001b[0mself\u001b[0m\u001b[0;34m.\u001b[0m\u001b[0m_engines\u001b[0m\u001b[0;34m[\u001b[0m\u001b[0mengine\u001b[0m\u001b[0;34m]\u001b[0m\u001b[0;34m(\u001b[0m\u001b[0mself\u001b[0m\u001b[0;34m.\u001b[0m\u001b[0m_io\u001b[0m\u001b[0;34m)\u001b[0m\u001b[0;34m\u001b[0m\u001b[0;34m\u001b[0m\u001b[0m\n\u001b[0m\u001b[1;32m    868\u001b[0m \u001b[0;34m\u001b[0m\u001b[0m\n\u001b[1;32m    869\u001b[0m     \u001b[0;32mdef\u001b[0m \u001b[0m__fspath__\u001b[0m\u001b[0;34m(\u001b[0m\u001b[0mself\u001b[0m\u001b[0;34m)\u001b[0m\u001b[0;34m:\u001b[0m\u001b[0;34m\u001b[0m\u001b[0;34m\u001b[0m\u001b[0m\n",
            "\u001b[0;32m/usr/local/lib/python3.7/dist-packages/pandas/io/excel/_xlrd.py\u001b[0m in \u001b[0;36m__init__\u001b[0;34m(self, filepath_or_buffer)\u001b[0m\n\u001b[1;32m     20\u001b[0m         \u001b[0merr_msg\u001b[0m \u001b[0;34m=\u001b[0m \u001b[0;34m\"Install xlrd >= 1.0.0 for Excel support\"\u001b[0m\u001b[0;34m\u001b[0m\u001b[0;34m\u001b[0m\u001b[0m\n\u001b[1;32m     21\u001b[0m         \u001b[0mimport_optional_dependency\u001b[0m\u001b[0;34m(\u001b[0m\u001b[0;34m\"xlrd\"\u001b[0m\u001b[0;34m,\u001b[0m \u001b[0mextra\u001b[0m\u001b[0;34m=\u001b[0m\u001b[0merr_msg\u001b[0m\u001b[0;34m)\u001b[0m\u001b[0;34m\u001b[0m\u001b[0;34m\u001b[0m\u001b[0m\n\u001b[0;32m---> 22\u001b[0;31m         \u001b[0msuper\u001b[0m\u001b[0;34m(\u001b[0m\u001b[0;34m)\u001b[0m\u001b[0;34m.\u001b[0m\u001b[0m__init__\u001b[0m\u001b[0;34m(\u001b[0m\u001b[0mfilepath_or_buffer\u001b[0m\u001b[0;34m)\u001b[0m\u001b[0;34m\u001b[0m\u001b[0;34m\u001b[0m\u001b[0m\n\u001b[0m\u001b[1;32m     23\u001b[0m \u001b[0;34m\u001b[0m\u001b[0m\n\u001b[1;32m     24\u001b[0m     \u001b[0;34m@\u001b[0m\u001b[0mproperty\u001b[0m\u001b[0;34m\u001b[0m\u001b[0;34m\u001b[0m\u001b[0m\n",
            "\u001b[0;32m/usr/local/lib/python3.7/dist-packages/pandas/io/excel/_base.py\u001b[0m in \u001b[0;36m__init__\u001b[0;34m(self, filepath_or_buffer)\u001b[0m\n\u001b[1;32m    351\u001b[0m             \u001b[0mself\u001b[0m\u001b[0;34m.\u001b[0m\u001b[0mbook\u001b[0m \u001b[0;34m=\u001b[0m \u001b[0mself\u001b[0m\u001b[0;34m.\u001b[0m\u001b[0mload_workbook\u001b[0m\u001b[0;34m(\u001b[0m\u001b[0mfilepath_or_buffer\u001b[0m\u001b[0;34m)\u001b[0m\u001b[0;34m\u001b[0m\u001b[0;34m\u001b[0m\u001b[0m\n\u001b[1;32m    352\u001b[0m         \u001b[0;32melif\u001b[0m \u001b[0misinstance\u001b[0m\u001b[0;34m(\u001b[0m\u001b[0mfilepath_or_buffer\u001b[0m\u001b[0;34m,\u001b[0m \u001b[0mstr\u001b[0m\u001b[0;34m)\u001b[0m\u001b[0;34m:\u001b[0m\u001b[0;34m\u001b[0m\u001b[0;34m\u001b[0m\u001b[0m\n\u001b[0;32m--> 353\u001b[0;31m             \u001b[0mself\u001b[0m\u001b[0;34m.\u001b[0m\u001b[0mbook\u001b[0m \u001b[0;34m=\u001b[0m \u001b[0mself\u001b[0m\u001b[0;34m.\u001b[0m\u001b[0mload_workbook\u001b[0m\u001b[0;34m(\u001b[0m\u001b[0mfilepath_or_buffer\u001b[0m\u001b[0;34m)\u001b[0m\u001b[0;34m\u001b[0m\u001b[0;34m\u001b[0m\u001b[0m\n\u001b[0m\u001b[1;32m    354\u001b[0m         \u001b[0;32melif\u001b[0m \u001b[0misinstance\u001b[0m\u001b[0;34m(\u001b[0m\u001b[0mfilepath_or_buffer\u001b[0m\u001b[0;34m,\u001b[0m \u001b[0mbytes\u001b[0m\u001b[0;34m)\u001b[0m\u001b[0;34m:\u001b[0m\u001b[0;34m\u001b[0m\u001b[0;34m\u001b[0m\u001b[0m\n\u001b[1;32m    355\u001b[0m             \u001b[0mself\u001b[0m\u001b[0;34m.\u001b[0m\u001b[0mbook\u001b[0m \u001b[0;34m=\u001b[0m \u001b[0mself\u001b[0m\u001b[0;34m.\u001b[0m\u001b[0mload_workbook\u001b[0m\u001b[0;34m(\u001b[0m\u001b[0mBytesIO\u001b[0m\u001b[0;34m(\u001b[0m\u001b[0mfilepath_or_buffer\u001b[0m\u001b[0;34m)\u001b[0m\u001b[0;34m)\u001b[0m\u001b[0;34m\u001b[0m\u001b[0;34m\u001b[0m\u001b[0m\n",
            "\u001b[0;32m/usr/local/lib/python3.7/dist-packages/pandas/io/excel/_xlrd.py\u001b[0m in \u001b[0;36mload_workbook\u001b[0;34m(self, filepath_or_buffer)\u001b[0m\n\u001b[1;32m     35\u001b[0m             \u001b[0;32mreturn\u001b[0m \u001b[0mopen_workbook\u001b[0m\u001b[0;34m(\u001b[0m\u001b[0mfile_contents\u001b[0m\u001b[0;34m=\u001b[0m\u001b[0mdata\u001b[0m\u001b[0;34m)\u001b[0m\u001b[0;34m\u001b[0m\u001b[0;34m\u001b[0m\u001b[0m\n\u001b[1;32m     36\u001b[0m         \u001b[0;32melse\u001b[0m\u001b[0;34m:\u001b[0m\u001b[0;34m\u001b[0m\u001b[0;34m\u001b[0m\u001b[0m\n\u001b[0;32m---> 37\u001b[0;31m             \u001b[0;32mreturn\u001b[0m \u001b[0mopen_workbook\u001b[0m\u001b[0;34m(\u001b[0m\u001b[0mfilepath_or_buffer\u001b[0m\u001b[0;34m)\u001b[0m\u001b[0;34m\u001b[0m\u001b[0;34m\u001b[0m\u001b[0m\n\u001b[0m\u001b[1;32m     38\u001b[0m \u001b[0;34m\u001b[0m\u001b[0m\n\u001b[1;32m     39\u001b[0m     \u001b[0;34m@\u001b[0m\u001b[0mproperty\u001b[0m\u001b[0;34m\u001b[0m\u001b[0;34m\u001b[0m\u001b[0m\n",
            "\u001b[0;32m/usr/local/lib/python3.7/dist-packages/xlrd/__init__.py\u001b[0m in \u001b[0;36mopen_workbook\u001b[0;34m(filename, logfile, verbosity, use_mmap, file_contents, encoding_override, formatting_info, on_demand, ragged_rows)\u001b[0m\n\u001b[1;32m    114\u001b[0m         \u001b[0mpeek\u001b[0m \u001b[0;34m=\u001b[0m \u001b[0mfile_contents\u001b[0m\u001b[0;34m[\u001b[0m\u001b[0;34m:\u001b[0m\u001b[0mpeeksz\u001b[0m\u001b[0;34m]\u001b[0m\u001b[0;34m\u001b[0m\u001b[0;34m\u001b[0m\u001b[0m\n\u001b[1;32m    115\u001b[0m     \u001b[0;32melse\u001b[0m\u001b[0;34m:\u001b[0m\u001b[0;34m\u001b[0m\u001b[0;34m\u001b[0m\u001b[0m\n\u001b[0;32m--> 116\u001b[0;31m         \u001b[0;32mwith\u001b[0m \u001b[0mopen\u001b[0m\u001b[0;34m(\u001b[0m\u001b[0mfilename\u001b[0m\u001b[0;34m,\u001b[0m \u001b[0;34m\"rb\"\u001b[0m\u001b[0;34m)\u001b[0m \u001b[0;32mas\u001b[0m \u001b[0mf\u001b[0m\u001b[0;34m:\u001b[0m\u001b[0;34m\u001b[0m\u001b[0;34m\u001b[0m\u001b[0m\n\u001b[0m\u001b[1;32m    117\u001b[0m             \u001b[0mpeek\u001b[0m \u001b[0;34m=\u001b[0m \u001b[0mf\u001b[0m\u001b[0;34m.\u001b[0m\u001b[0mread\u001b[0m\u001b[0;34m(\u001b[0m\u001b[0mpeeksz\u001b[0m\u001b[0;34m)\u001b[0m\u001b[0;34m\u001b[0m\u001b[0;34m\u001b[0m\u001b[0m\n\u001b[1;32m    118\u001b[0m     \u001b[0;32mif\u001b[0m \u001b[0mpeek\u001b[0m \u001b[0;34m==\u001b[0m \u001b[0;34mb\"PK\\x03\\x04\"\u001b[0m\u001b[0;34m:\u001b[0m \u001b[0;31m# a ZIP file\u001b[0m\u001b[0;34m\u001b[0m\u001b[0;34m\u001b[0m\u001b[0m\n",
            "\u001b[0;31mFileNotFoundError\u001b[0m: [Errno 2] No such file or directory: '/Users/zhangtiansheng/Downloads/WaterMelon_3.0.xlsx'"
          ]
        }
      ],
      "source": [
        "dataset = pd.read_excel('/Users/zhangtiansheng/Downloads/WaterMelon_3.0.xlsx',index_col=0)\n",
        "dataset"
      ]
    },
    {
      "cell_type": "code",
      "execution_count": null,
      "id": "f04403c0",
      "metadata": {
        "id": "f04403c0"
      },
      "outputs": [],
      "source": [
        "Attributes = dataset.columns #所有属性的名称\n",
        "m,n = np.shape(dataset)\n",
        "dataset = np.matrix(dataset)\n",
        "for i in range(m):\n",
        "    if dataset[i,n-1]==\"是\":\n",
        "        dataset[i,n-1] = \"good\"\n",
        "    else:\n",
        "        dataset[i,n-1] = \"bad\""
      ]
    },
    {
      "cell_type": "code",
      "execution_count": null,
      "id": "0c8c27d0",
      "metadata": {
        "id": "0c8c27d0"
      },
      "outputs": [],
      "source": [
        "attributeList = [] # 属性列表，每一个属性的取值，列表中元素是集合\n",
        "for i in range(n):\n",
        "    attribute_value = set()\n",
        "    for j in range(m):\n",
        "        attribute_value.add(dataset[j,i])\n",
        "    attributeList.append(attribute_value)\n",
        "\n",
        "D = np.arange(0,m,1) # 表示每一个样本编号\n",
        "A = list(np.ones(n))  # 表示每一个属性是否被使用，使用过了标为 -1\n",
        "A[-1] = -1\n",
        "EPS = 0.000001"
      ]
    },
    {
      "cell_type": "code",
      "execution_count": null,
      "id": "21c21a57",
      "metadata": {
        "id": "21c21a57"
      },
      "outputs": [],
      "source": [
        "class Node:\n",
        "    def __init__(self,title):\n",
        "        self.title = title\n",
        "        self.v = 1   # 节点的信息标记\n",
        "        self.children = []\n",
        "        self.deep = 0  # 节点深度\n",
        "        self.ID = -1\n"
      ]
    },
    {
      "cell_type": "code",
      "execution_count": null,
      "id": "0fa705ca",
      "metadata": {
        "id": "0fa705ca"
      },
      "outputs": [],
      "source": [
        "def isSameY(D):\n",
        "    curY = dataset[D[0],n-1]\n",
        "    for i in range(1,len(D)):\n",
        "        if dataset[D[i],n-1] != curY:\n",
        "            return False\n",
        "    return True\n",
        "\n",
        "def isBlankA(A):\n",
        "    for i in range(n):\n",
        "        if A[i] > 0:\n",
        "            return False\n",
        "    return True\n",
        "\n",
        "def isSameAinD(D,A): # 判断在D中，是否所有的未使用过的样本属性均相同\n",
        "    for i in range(n):\n",
        "        if A[i] > 0:\n",
        "            for j in range(1,len(D)):\n",
        "                if not isSameValue(dataset[D[0],i],dataset[D[j],i]):\n",
        "                    return False\n",
        "    return True\n",
        "\n",
        "def isSameValue(v1,v2):\n",
        "    if type(v1)==float:\n",
        "        return abs(v1-v2)<EPS\n",
        "    else: return  v1==v2"
      ]
    },
    {
      "cell_type": "code",
      "execution_count": null,
      "id": "acafc83d",
      "metadata": {
        "id": "acafc83d"
      },
      "outputs": [],
      "source": [
        "def mostCommonY(D):\n",
        "    res = dataset[D[0],n-1]\n",
        "    count = {}\n",
        "    count[res] = 1\n",
        "    maxC = 1\n",
        "    for i in range(1,len(D)):\n",
        "        curL = dataset[D[i],n-1]\n",
        "        if curL not in count:\n",
        "            count[curL] = 1\n",
        "        else:\n",
        "            count[curL] += 1\n",
        "        if count[curL] > maxC:\n",
        "            maxC = count[curL]\n",
        "            res = curL\n",
        "    return res"
      ]
    },
    {
      "cell_type": "code",
      "execution_count": null,
      "id": "b5abfce0",
      "metadata": {
        "id": "b5abfce0"
      },
      "outputs": [],
      "source": [
        "def entropyD(D): #信息熵\n",
        "    count = {}\n",
        "    for i in D:\n",
        "        curY = dataset[i,n-1]\n",
        "        if curY not in count:\n",
        "            count[curY] = 1\n",
        "        else:\n",
        "            count[curY] += 1\n",
        "    ans = 0\n",
        "    total = len(D)\n",
        "    for i in count.keys():\n",
        "        ans -= count[i]/total*math.log2(count[i]/total)\n",
        "    return ans"
      ]
    },
    {
      "cell_type": "code",
      "execution_count": null,
      "id": "ec032119",
      "metadata": {
        "id": "ec032119"
      },
      "outputs": [],
      "source": [
        "def gain(D,a):  #信息增益\n",
        "    if type(dataset[D[0],a])!=str and abs(dataset[D[0],a]-round(dataset[D[0],a])) > EPS:  # 判断若是连续属性，则调用另一个函数\n",
        "        res, divideV = gainFloat(D,a)\n",
        "    else:\n",
        "        count = {}\n",
        "        for i in D:\n",
        "            av = dataset[i,a]\n",
        "            if av not in count:\n",
        "                count[av] = [i]\n",
        "            else:\n",
        "                count[av].append(i)\n",
        "        res = entropyD(D)\n",
        "        total = len(D)\n",
        "        for i in count.keys():\n",
        "            res -= len(count[i])/total*entropyD(count[i])\n",
        "        divideV = -1000  # 这个只是随便给的一个值，没有实际意义\n",
        "    return res, divideV"
      ]
    },
    {
      "cell_type": "code",
      "execution_count": null,
      "id": "3e656526",
      "metadata": {
        "id": "3e656526"
      },
      "outputs": [],
      "source": [
        "def gainFloat(D,a):\n",
        "    av = set()\n",
        "    for i in D:\n",
        "        av.add(dataset[i,a])\n",
        "    av = list(av)\n",
        "    av.sort()\n",
        "    T = []\n",
        "    for i in range(len(av)-1):\n",
        "        T.append((av[i]+av[i+1])/2)\n",
        "    res = entropyD(D)\n",
        "    ans = 0\n",
        "    divideV = T[0]\n",
        "    for i in T:\n",
        "        right = []\n",
        "        left = []\n",
        "        for j in D:\n",
        "            if dataset[j,a] < i:\n",
        "                left.append(j)\n",
        "            else:\n",
        "                right.append(j)\n",
        "        temp = res-len(right)/len(D)*entropyD(right)-len(left)/len(D)*entropyD(left)\n",
        "\n",
        "        if temp > ans:\n",
        "            ans = temp\n",
        "            divideV = i\n",
        "    return ans, divideV"
      ]
    },
    {
      "cell_type": "code",
      "execution_count": null,
      "id": "769893d8",
      "metadata": {
        "id": "769893d8"
      },
      "outputs": [],
      "source": [
        "def treeGenerate(D,A,title):\n",
        "    node = Node(title)\n",
        "    \n",
        "    if isSameY(D):\n",
        "        node.v = dataset[D[0],n-1]\n",
        "        return node\n",
        "    \n",
        "    if isBlankA(A) or isSameAinD(D,A):\n",
        "        node.v = mostCommonY(D)\n",
        "        return node\n",
        "    \n",
        "    \n",
        "    entropy = 0\n",
        "    floatV = 0\n",
        "    p = 0\n",
        "    for i in range(len(A)):      # 循环遍历A,找可以获得最大信息增益的属性\n",
        "        if(A[i]>0):\n",
        "            curEntropy,divideV = gain(D,i)\n",
        "            \n",
        "            if curEntropy > entropy:\n",
        "                p = i                     # 存贮属性编号\n",
        "                entropy = curEntropy\n",
        "                floatV = divideV\n",
        "   \n",
        "    if isSameValue(-1000,floatV):   # 说明是离散属性\n",
        "        node.v = Attributes[p]+\"=?\"\n",
        "        curSet = attributeList[p]\n",
        "        for i in curSet:\n",
        "            Dv = []\n",
        "            for j in D:\n",
        "                if dataset[j,p]==i:\n",
        "                    Dv.append(j)\n",
        "            if len(Dv)==0:\n",
        "                nextNode = Node(i)\n",
        "                nextNode.v = mostCommonY(D)\n",
        "                node.children.append(nextNode)\n",
        "            else:\n",
        "                newA = copy.deepcopy(A)  # 注意是深度复制，否则会改变A中的值\n",
        "                newA[p] = -1\n",
        "                nextNode = treeGenerate(Dv,newA,i)\n",
        "                node.children.append(nextNode)\n",
        "    else:\n",
        "        node.v = Attributes[p]+\"<=\"+str(floatV)+\"?\"\n",
        "        Dright = []\n",
        "        Dleft = []\n",
        "        for i in D:\n",
        "            if dataset[i,p]<=floatV:\n",
        "                Dleft.append(i)\n",
        "            else:Dright.append(i)\n",
        "        node.children.append(treeGenerate(Dright,A,\"Yes\"))\n",
        "        node.children.append(treeGenerate(Dleft,A,\"No\"))\n",
        "    return node"
      ]
    },
    {
      "cell_type": "code",
      "execution_count": null,
      "id": "ffb042c4",
      "metadata": {
        "id": "ffb042c4"
      },
      "outputs": [],
      "source": [
        "def countLeaf(root,deep): #得到叶子数以及树的最大深度\n",
        "    root.deep = deep\n",
        "    res = 0\n",
        "    if root.v==\"good\" or root.v==\"bad\":\n",
        "        res += 1\n",
        "        return res,deep\n",
        "    curdeep = deep\n",
        "    for i in root.children:\n",
        "        a,b = countLeaf(i,deep+1)\n",
        "        res += a\n",
        "        if b>curdeep: curdeep = b\n",
        "    return res,curdeep\n",
        "\n",
        "def giveLeafID(root,ID):\n",
        "    if root.v==\"good\" or root.v==\"bad\":\n",
        "        root.ID = ID\n",
        "        ID += 1\n",
        "        return ID\n",
        "    for i in root.children:\n",
        "        ID = giveLeafID(i,ID)\n",
        "    return ID\n",
        "\n"
      ]
    },
    {
      "cell_type": "code",
      "execution_count": null,
      "id": "9006b065",
      "metadata": {
        "id": "9006b065"
      },
      "outputs": [],
      "source": [
        "#绘制决策树函数\n",
        "def plotNode(nodeTxt,centerPt,parentPt,nodeType):     # 绘制节点\n",
        "    plt.annotate(nodeTxt,xy = parentPt,xycoords='axes fraction',xytext=centerPt,\n",
        "                 textcoords='axes fraction',va=\"center\",ha=\"center\",color='aqua',bbox=nodeType,\n",
        "                 arrowprops=arrow_args)\n",
        "def dfsPlot(root):\n",
        "    if root.ID==-1:          # 说明根节点不是叶子节点\n",
        "        childrenPx = []\n",
        "        meanPx = 0\n",
        "        for i in root.children:\n",
        "            cur = dfsPlot(i)\n",
        "            meanPx += cur\n",
        "            childrenPx.append(cur)\n",
        "        meanPx = meanPx/len(root.children)\n",
        "        c = 0\n",
        "        for i in root.children:\n",
        "            nodetype = leafNode\n",
        "            if i.ID<0: nodetype=decisionNode\n",
        "            plotNode(i.v,(childrenPx[c],0.9-i.deep*0.8/deep),(meanPx,0.9-root.deep*0.8/deep),nodetype)\n",
        "            plt.text((childrenPx[c]+meanPx)/2,(0.9-i.deep*0.8/deep+0.9-root.deep*0.8/deep)/2,i.title)\n",
        "            c += 1\n",
        "        return meanPx\n",
        "    else:\n",
        "        return 0.1+root.ID*0.8/(cnt-1)\n"
      ]
    },
    {
      "cell_type": "code",
      "execution_count": null,
      "id": "53539926",
      "metadata": {
        "id": "53539926",
        "outputId": "48cb6b3e-940e-4402-b15e-c77a0f5043cd"
      },
      "outputs": [
        {
          "data": {
            "text/plain": [
              "5"
            ]
          },
          "execution_count": 168,
          "metadata": {},
          "output_type": "execute_result"
        }
      ],
      "source": [
        "#生成决策树\n",
        "myDecisionTree = treeGenerate(D,A,'root')\n",
        "cnt,deep = countLeaf(myDecisionTree,0)\n",
        "giveLeafID(myDecisionTree,0)"
      ]
    },
    {
      "cell_type": "markdown",
      "id": "4ec0f0d3",
      "metadata": {
        "id": "4ec0f0d3"
      },
      "source": [
        "## 绘制决策树"
      ]
    },
    {
      "cell_type": "code",
      "execution_count": 1,
      "id": "9b8c6d27",
      "metadata": {
        "colab": {
          "base_uri": "https://localhost:8080/",
          "height": 232
        },
        "id": "9b8c6d27",
        "outputId": "17ce8df1-1dbf-418f-879f-4e730b190fa9"
      },
      "outputs": [
        {
          "output_type": "error",
          "ename": "NameError",
          "evalue": "ignored",
          "traceback": [
            "\u001b[0;31m---------------------------------------------------------------------------\u001b[0m",
            "\u001b[0;31mNameError\u001b[0m                                 Traceback (most recent call last)",
            "\u001b[0;32m<ipython-input-1-9672996cb473>\u001b[0m in \u001b[0;36m<module>\u001b[0;34m()\u001b[0m\n\u001b[1;32m      2\u001b[0m \u001b[0mleafNode\u001b[0m \u001b[0;34m=\u001b[0m \u001b[0mdict\u001b[0m\u001b[0;34m(\u001b[0m\u001b[0mboxstyle\u001b[0m \u001b[0;34m=\u001b[0m \u001b[0;34m\"round4\"\u001b[0m\u001b[0;34m,\u001b[0m\u001b[0mfc\u001b[0m\u001b[0;34m=\u001b[0m\u001b[0;34m\"black\"\u001b[0m\u001b[0;34m,\u001b[0m\u001b[0mec\u001b[0m\u001b[0;34m=\u001b[0m\u001b[0;34m'red'\u001b[0m\u001b[0;34m)\u001b[0m\u001b[0;34m\u001b[0m\u001b[0;34m\u001b[0m\u001b[0m\n\u001b[1;32m      3\u001b[0m \u001b[0marrow_args\u001b[0m \u001b[0;34m=\u001b[0m \u001b[0mdict\u001b[0m\u001b[0;34m(\u001b[0m\u001b[0marrowstyle\u001b[0m \u001b[0;34m=\u001b[0m \u001b[0;34m\"<-\"\u001b[0m\u001b[0;34m,\u001b[0m\u001b[0mcolor\u001b[0m\u001b[0;34m=\u001b[0m\u001b[0;34m'black'\u001b[0m\u001b[0;34m)\u001b[0m\u001b[0;34m\u001b[0m\u001b[0;34m\u001b[0m\u001b[0m\n\u001b[0;32m----> 4\u001b[0;31m \u001b[0mfig\u001b[0m \u001b[0;34m=\u001b[0m \u001b[0mplt\u001b[0m\u001b[0;34m.\u001b[0m\u001b[0mfigure\u001b[0m\u001b[0;34m(\u001b[0m\u001b[0;36m1\u001b[0m\u001b[0;34m,\u001b[0m\u001b[0mfacecolor\u001b[0m\u001b[0;34m=\u001b[0m\u001b[0;34m'white'\u001b[0m\u001b[0;34m)\u001b[0m\u001b[0;34m\u001b[0m\u001b[0;34m\u001b[0m\u001b[0m\n\u001b[0m\u001b[1;32m      5\u001b[0m \u001b[0mrootX\u001b[0m \u001b[0;34m=\u001b[0m \u001b[0mdfsPlot\u001b[0m\u001b[0;34m(\u001b[0m\u001b[0mmyDecisionTree\u001b[0m\u001b[0;34m)\u001b[0m\u001b[0;34m\u001b[0m\u001b[0;34m\u001b[0m\u001b[0m\n\u001b[1;32m      6\u001b[0m \u001b[0mplotNode\u001b[0m\u001b[0;34m(\u001b[0m\u001b[0mmyDecisionTree\u001b[0m\u001b[0;34m.\u001b[0m\u001b[0mv\u001b[0m\u001b[0;34m,\u001b[0m\u001b[0;34m(\u001b[0m\u001b[0mrootX\u001b[0m\u001b[0;34m,\u001b[0m\u001b[0;36m0.9\u001b[0m\u001b[0;34m)\u001b[0m\u001b[0;34m,\u001b[0m\u001b[0;34m(\u001b[0m\u001b[0mrootX\u001b[0m\u001b[0;34m,\u001b[0m\u001b[0;36m0.9\u001b[0m\u001b[0;34m)\u001b[0m\u001b[0;34m,\u001b[0m\u001b[0mdecisionNode\u001b[0m\u001b[0;34m)\u001b[0m\u001b[0;34m\u001b[0m\u001b[0;34m\u001b[0m\u001b[0m\n",
            "\u001b[0;31mNameError\u001b[0m: name 'plt' is not defined"
          ]
        }
      ],
      "source": [
        "decisionNode = dict(boxstyle = \"round\",fc = \"black\") #fc背景颜色，ec边框颜色\n",
        "leafNode = dict(boxstyle = \"round4\",fc=\"black\",ec='red')\n",
        "arrow_args = dict(arrowstyle = \"<-\",color='black')\n",
        "fig = plt.figure(1,facecolor='white')\n",
        "rootX = dfsPlot(myDecisionTree)\n",
        "plotNode(myDecisionTree.v,(rootX,0.9),(rootX,0.9),decisionNode)\n",
        "plt.show()\n"
      ]
    },
    {
      "cell_type": "markdown",
      "id": "2be043d8",
      "metadata": {
        "id": "2be043d8"
      },
      "source": [
        "###哈哈哈"
      ]
    },
    {
      "cell_type": "code",
      "execution_count": null,
      "id": "25cc238b",
      "metadata": {
        "id": "25cc238b"
      },
      "outputs": [],
      "source": [
        ""
      ]
    }
  ],
  "metadata": {
    "kernelspec": {
      "display_name": "Python 3 (ipykernel)",
      "language": "python",
      "name": "python3"
    },
    "language_info": {
      "codemirror_mode": {
        "name": "ipython",
        "version": 3
      },
      "file_extension": ".py",
      "mimetype": "text/x-python",
      "name": "python",
      "nbconvert_exporter": "python",
      "pygments_lexer": "ipython3",
      "version": "3.9.10"
    },
    "colab": {
      "name": "决策树.ipynb",
      "provenance": [],
      "include_colab_link": true
    }
  },
  "nbformat": 4,
  "nbformat_minor": 5
}